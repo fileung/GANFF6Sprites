{
 "cells": [
  {
   "cell_type": "code",
   "execution_count": null,
   "metadata": {},
   "outputs": [],
   "source": [
    "########################################################\n",
    "# Project - GAN generate pixel art like ff6 spritesheets\n",
    "#\n",
    "# Target - generated image with resolution 32x32 \n",
    "#\n",
    "# This notebook is for education purpose only.\n",
    "# \n",
    "# All input images used are found at http://finalfantasy.wikia.com/\n",
    "# \n",
    "########################################################\n",
    "\n",
    "############################################\n",
    "# ***Go straight to Part 3 - GAN***\n",
    "# ***if data images is already downloaded, pre-processed, and saved as x_train.pickle***\n",
    "############################################\n",
    "\n",
    "############################################\n",
    "# Project folders\n",
    "\n",
    "# data/ \n",
    "#   pickle files contain webpage hyperlinks array\n",
    "#   images downloaded from website\n",
    "\n",
    "# img/ \n",
    "#   pre-processed images, input from data/\n",
    "#     by spliting large spritesheets\n",
    "#     removed blank images, small character images\n",
    "#   copied single character images 96x96\n",
    "\n",
    "# gan_images/\n",
    "#   generated images of current model training\n",
    "\n",
    "# train001/ -> train00X/\n",
    "#   saved version of trained model .h5 file\n",
    "#   gen_images/ is generated images during model training\n",
    "\n",
    "############################################"
   ]
  },
  {
   "cell_type": "code",
   "execution_count": null,
   "metadata": {},
   "outputs": [],
   "source": [
    "#####################################################\n",
    "# Part 1 - Get Images Online\n",
    "#####################################################\n",
    "\n",
    "#####################################################\n",
    "# website structure\n",
    "#   http://finalfantasy.wikia.com/\n",
    "\n",
    "# 4 web pages, each page got over hundred links to indivdual web page for each spritesheet \n",
    "# for each spritesheet web page (there are total of hundreds), contains one image link\n",
    "\n",
    "# each page link - example\n",
    "# http://finalfantasy.wikia.com/wiki/File:FFRK_AC_Cloud.png\n",
    "\n",
    "# each image page contains one a link, html soup analysis\n",
    "# <div class=\"fullImageLink\" id=\"file\"><a href=\"https://vignette.wikia.nocookie.net/finalfantasy/images/5/53/FFRK_AC_Cloud.png/revision/latest?cb=20150930085325\"><img alt=\"File:FFRK AC Cloud.png\" src=\"https://vignette.wikia.nocookie.net/finalfantasy/images/5/53/FFRK_AC_Cloud.png/revision/latest?cb=20150930085325\" data-image-name=\"FFRK AC Cloud.png\" data-image-key=\"FFRK_AC_Cloud.png\" data-src=\"https://vignette.wikia.nocookie.net/finalfantasy/images/5/53/FFRK_AC_Cloud.png/revision/latest?cb=20150930085325\" class=\"lzyPlcHld lzyTrns lzyLoaded\" onload=\"if(typeof ImgLzy==='object'){ImgLzy.load(this)}\" width=\"96\" height=\"96\"><noscript><img alt=\"File:FFRK AC Cloud.png\" src=\"https://vignette.wikia.nocookie.net/finalfantasy/images/5/53/FFRK_AC_Cloud.png/revision/latest?cb=20150930085325\" width=\"96\" height=\"96\" data-image-name=\"FFRK AC Cloud.png\" data-image-key=\"FFRK_AC_Cloud.png\" /></noscript></a><div class=\"mw-filepage-resolutioninfo\">No higher resolution available.</div></div>\n",
    "#####################################################"
   ]
  },
  {
   "cell_type": "code",
   "execution_count": 1,
   "metadata": {},
   "outputs": [],
   "source": [
    "# packages\n",
    "import bs4 as bs\n",
    "import pickle\n",
    "import requests\n",
    "\n",
    "import numpy as np\n",
    "import os\n",
    "import time\n",
    "\n",
    "from tqdm import tnrange, tqdm_notebook"
   ]
  },
  {
   "cell_type": "code",
   "execution_count": 2,
   "metadata": {},
   "outputs": [],
   "source": [
    "data_folder = 'data'\n",
    "img_folder = 'img'\n",
    "domain = 'http://finalfantasy.wikia.com/'"
   ]
  },
  {
   "cell_type": "code",
   "execution_count": 8,
   "metadata": {},
   "outputs": [],
   "source": [
    "# get all image a links from html page\n",
    "def save_img_links(i, page_link):\n",
    "\n",
    "    #create folder data if not exist\n",
    "    if not os.path.exists(data_folder):\n",
    "        os.makedirs(data_folder)\n",
    "        \n",
    "    save_path = \"%s/ff6pages%d.pickle\" % (data_folder, i)\n",
    "    \n",
    "    # do not get links if already retrieved\n",
    "    if os.path.exists(save_path):\n",
    "        print ('%s already exist.' % (save_path))\n",
    "        return\n",
    "    \n",
    "    resp = requests.get(page_link)\n",
    "    soup = bs.BeautifulSoup(resp.text, 'lxml')\n",
    "    div = soup.find('div', {'class': 'category-page__members'})\n",
    "\n",
    "    img_links = []\n",
    "    for a_tag in div.findAll('a'):\n",
    "        a_link = a_tag['href']\n",
    "        img_links.append(a_link)\n",
    "        # print (a_link)\n",
    "        \n",
    "    \n",
    "    with open(save_path,\"wb\") as f:\n",
    "        pickle.dump(img_links, f)\n",
    "       \n",
    "    print ('Saved page image links to pickle - %s' % page_link)\n",
    "    \n",
    "    return img_links\n",
    "    \n",
    "# html soup analysis\n",
    "# soup.find('div', {'class': 'category-page__members'})\n",
    "# soup.find('a', {'class': 'category-page__member-link'})"
   ]
  },
  {
   "cell_type": "code",
   "execution_count": 10,
   "metadata": {},
   "outputs": [
    {
     "name": "stdout",
     "output_type": "stream",
     "text": [
      "Saved page image links to pickle - http://finalfantasy.wikia.com/wiki/Category:Final_Fantasy_Record_Keeper_Sprite_Images\n",
      "Saved page image links to pickle - http://finalfantasy.wikia.com/wiki/Category:Final_Fantasy_Record_Keeper_Sprite_Images?from=FFRK+Gladiator+sprites.png\n",
      "Saved page image links to pickle - http://finalfantasy.wikia.com/wiki/Category:Final_Fantasy_Record_Keeper_Sprite_Images?from=FFRK+Reynn.png\n",
      "Saved page image links to pickle - http://finalfantasy.wikia.com/wiki/Category:Final_Fantasy_Record_Keeper_Sprite_Images?from=FFRK+Ysayle.png\n"
     ]
    }
   ],
   "source": [
    "# run to get page html a links\n",
    "def get_page_links():\n",
    "    \n",
    "    page_links = []\n",
    "\n",
    "    # 4 pages of spritesheets\n",
    "    page_links.append(domain+'wiki/Category:Final_Fantasy_Record_Keeper_Sprite_Images')\n",
    "    page_links.append(domain+'wiki/Category:Final_Fantasy_Record_Keeper_Sprite_Images?from=FFRK+Gladiator+sprites.png')\n",
    "    page_links.append(domain+'wiki/Category:Final_Fantasy_Record_Keeper_Sprite_Images?from=FFRK+Reynn.png')\n",
    "    page_links.append(domain+'wiki/Category:Final_Fantasy_Record_Keeper_Sprite_Images?from=FFRK+Ysayle.png')\n",
    "\n",
    "    return page_links\n",
    "\n",
    "def run_save_img_links():\n",
    "    \n",
    "    page_links = get_page_links()\n",
    "    for i, page_link in enumerate(page_links):\n",
    "        save_img_links(i, page_link)\n",
    "\n",
    "run_save_img_links()"
   ]
  },
  {
   "cell_type": "code",
   "execution_count": 11,
   "metadata": {
    "scrolled": true
   },
   "outputs": [
    {
     "data": {
      "application/vnd.jupyter.widget-view+json": {
       "model_id": "a8238db32a9a46b5b1945129d67fe322",
       "version_major": 2,
       "version_minor": 0
      },
      "text/plain": [
       "HBox(children=(IntProgress(value=0, max=4), HTML(value='')))"
      ]
     },
     "metadata": {},
     "output_type": "display_data"
    },
    {
     "data": {
      "application/vnd.jupyter.widget-view+json": {
       "model_id": "d1abdeebd8204160b46d669af2c0c1c0",
       "version_major": 2,
       "version_minor": 0
      },
      "text/plain": [
       "HBox(children=(IntProgress(value=0, max=200), HTML(value='')))"
      ]
     },
     "metadata": {},
     "output_type": "display_data"
    },
    {
     "data": {
      "application/vnd.jupyter.widget-view+json": {
       "model_id": "b78d86010e08447383c7b657e5f2d042",
       "version_major": 2,
       "version_minor": 0
      },
      "text/plain": [
       "HBox(children=(IntProgress(value=0, max=200), HTML(value='')))"
      ]
     },
     "metadata": {},
     "output_type": "display_data"
    },
    {
     "data": {
      "application/vnd.jupyter.widget-view+json": {
       "model_id": "f3633e59e0344fc4abe674bbb573a0ef",
       "version_major": 2,
       "version_minor": 0
      },
      "text/plain": [
       "HBox(children=(IntProgress(value=0, max=200), HTML(value='')))"
      ]
     },
     "metadata": {},
     "output_type": "display_data"
    },
    {
     "data": {
      "application/vnd.jupyter.widget-view+json": {
       "model_id": "6bd630954b374f9e986811427abf0508",
       "version_major": 2,
       "version_minor": 0
      },
      "text/plain": [
       "HBox(children=(IntProgress(value=0, max=22), HTML(value='')))"
      ]
     },
     "metadata": {},
     "output_type": "display_data"
    },
    {
     "ename": "AttributeError",
     "evalue": "'NoneType' object has no attribute 'find'",
     "output_type": "error",
     "traceback": [
      "\u001b[0;31m---------------------------------------------------------------------------\u001b[0m",
      "\u001b[0;31mAttributeError\u001b[0m                            Traceback (most recent call last)",
      "\u001b[0;32m<ipython-input-11-81e27b2d2454>\u001b[0m in \u001b[0;36m<module>\u001b[0;34m\u001b[0m\n\u001b[1;32m     44\u001b[0m                         \u001b[0mtime\u001b[0m\u001b[0;34m.\u001b[0m\u001b[0msleep\u001b[0m\u001b[0;34m(\u001b[0m\u001b[0;36m0.2\u001b[0m\u001b[0;34m)\u001b[0m\u001b[0;34m\u001b[0m\u001b[0;34m\u001b[0m\u001b[0m\n\u001b[1;32m     45\u001b[0m \u001b[0;34m\u001b[0m\u001b[0m\n\u001b[0;32m---> 46\u001b[0;31m \u001b[0mget_images_from_a_links\u001b[0m\u001b[0;34m(\u001b[0m\u001b[0;34m)\u001b[0m\u001b[0;34m\u001b[0m\u001b[0;34m\u001b[0m\u001b[0m\n\u001b[0m",
      "\u001b[0;32m<ipython-input-11-81e27b2d2454>\u001b[0m in \u001b[0;36mget_images_from_a_links\u001b[0;34m(reload_page)\u001b[0m\n\u001b[1;32m     21\u001b[0m \u001b[0;34m\u001b[0m\u001b[0m\n\u001b[1;32m     22\u001b[0m                         \u001b[0;31m# get image from link embeded in page link\u001b[0m\u001b[0;34m\u001b[0m\u001b[0;34m\u001b[0m\u001b[0;34m\u001b[0m\u001b[0m\n\u001b[0;32m---> 23\u001b[0;31m                         \u001b[0ma_tag\u001b[0m \u001b[0;34m=\u001b[0m \u001b[0mdiv\u001b[0m\u001b[0;34m.\u001b[0m\u001b[0mfind\u001b[0m\u001b[0;34m(\u001b[0m\u001b[0;34m'a'\u001b[0m\u001b[0;34m)\u001b[0m\u001b[0;34m\u001b[0m\u001b[0;34m\u001b[0m\u001b[0m\n\u001b[0m\u001b[1;32m     24\u001b[0m                         \u001b[0ma_link\u001b[0m \u001b[0;34m=\u001b[0m \u001b[0ma_tag\u001b[0m\u001b[0;34m[\u001b[0m\u001b[0;34m'href'\u001b[0m\u001b[0;34m]\u001b[0m\u001b[0;34m\u001b[0m\u001b[0;34m\u001b[0m\u001b[0m\n\u001b[1;32m     25\u001b[0m \u001b[0;34m\u001b[0m\u001b[0m\n",
      "\u001b[0;31mAttributeError\u001b[0m: 'NoneType' object has no attribute 'find'"
     ]
    }
   ],
   "source": [
    "# download images from page links\n",
    "def get_images_from_a_links(reload_page=False):\n",
    "    if reload_page:\n",
    "        tickers = run_save_img_links()\n",
    "    else:\n",
    "        # load all pickle(s)\n",
    "        for file in tqdm_notebook(os.listdir(data_folder)):\n",
    "            if file.endswith('.pickle'):\n",
    "                load_path = '%s/%s' % (data_folder, file)\n",
    "            \n",
    "                with open(load_path, \"rb\") as f:\n",
    "                    image_page_links = pickle.load(f)\n",
    "\n",
    "                    for j in tqdm_notebook(range(len(image_page_links))):\n",
    "                        link = image_page_links[j]\n",
    "                        image_page_link = ('%s/%s' % (domain, link))\n",
    "\n",
    "                        resp = requests.get(image_page_link)\n",
    "                        soup = bs.BeautifulSoup(resp.text, 'lxml')\n",
    "                        div = soup.find('div', {'class': 'fullImageLink'})\n",
    "                        \n",
    "                        # get image from link embeded in page link\n",
    "                        a_tag = div.find('a')\n",
    "                        a_link = a_tag['href']\n",
    "                        \n",
    "                        file_name = os.path.basename(link)\n",
    "                        file_name = file_name.replace('File:', '') # remove prefix 'File:'\n",
    "                        save_file_path = '%s/%s' % (data_folder, file_name)\n",
    "                        \n",
    "                        # check if file already downloaded\n",
    "                        if os.path.exists(save_file_path):\n",
    "                            # print ('%s already exist.' % (save_file_path))\n",
    "                            continue\n",
    "                        \n",
    "                        # print ('Downloading - %s' % (a_link))\n",
    "                        \n",
    "                        get_file = requests.get(a_link)\n",
    "                               \n",
    "                        f = open(save_file_path, 'wb')\n",
    "                        # print ('Saving - %s' % (a_link))\n",
    "                        f.write(get_file.content)\n",
    "                                        \n",
    "                        # wait for a while to avoid being block\n",
    "                        time.sleep(1.0)\n",
    "\n",
    "get_images_from_a_links()\n"
   ]
  },
  {
   "cell_type": "code",
   "execution_count": 12,
   "metadata": {},
   "outputs": [],
   "source": [
    "# test terminal wget a single image - worked\n",
    "# !wget https://vignette.wikia.nocookie.net/finalfantasy/images/5/53/FFRK_AC_Cloud.png/revision/latest?cb=20150930085325"
   ]
  },
  {
   "cell_type": "code",
   "execution_count": 13,
   "metadata": {},
   "outputs": [],
   "source": [
    "#####################################################\n",
    "# Part 2 - Pre-processing Images\n",
    "# 2.1 preview downloaded raw mages\n",
    "# 2.2 remove prefix in image names - no longer needed\n",
    "# 2.3 crop/rip from big spritesheet with multi images, copy single 96x96 images\n",
    "# 2.4 detect and delete blank + mini character images\n",
    "# 2.5 resize all images to same dimension 32x32\n",
    "# 2.6 load into one big list, save as pickle\n",
    "#####################################################"
   ]
  },
  {
   "cell_type": "code",
   "execution_count": 14,
   "metadata": {},
   "outputs": [],
   "source": [
    "import numpy as np\n",
    "import matplotlib.pyplot as plt\n",
    "import os\n",
    "import cv2\n",
    "from tqdm import tqdm\n"
   ]
  },
  {
   "cell_type": "code",
   "execution_count": 15,
   "metadata": {
    "scrolled": true
   },
   "outputs": [
    {
     "data": {
      "image/png": "[encoded data removed]",
      "text/plain": [
       "<Figure size 432x288 with 1 Axes>"
      ]
     },
     "metadata": {
      "needs_background": "light"
     },
     "output_type": "display_data"
    },
    {
     "data": {
      "image/png": "[encoded data removed]",
      "text/plain": [
       "<Figure size 432x288 with 1 Axes>"
      ]
     },
     "metadata": {
      "needs_background": "light"
     },
     "output_type": "display_data"
    },
    {
     "data": {
      "image/png": "[encoded data removed]",
      "text/plain": [
       "<Figure size 432x288 with 1 Axes>"
      ]
     },
     "metadata": {
      "needs_background": "light"
     },
     "output_type": "display_data"
    },
    {
     "data": {
      "image/png": "[encoded data removed]",
      "text/plain": [
       "<Figure size 432x288 with 1 Axes>"
      ]
     },
     "metadata": {
      "needs_background": "light"
     },
     "output_type": "display_data"
    },
    {
     "data": {
      "image/png": "[encoded data removed]",
      "text/plain": [
       "<Figure size 432x288 with 1 Axes>"
      ]
     },
     "metadata": {
      "needs_background": "light"
     },
     "output_type": "display_data"
    },
    {
     "data": {
      "image/png": "[encoded data removed]",
      "text/plain": [
       "<Figure size 432x288 with 1 Axes>"
      ]
     },
     "metadata": {
      "needs_background": "light"
     },
     "output_type": "display_data"
    },
    {
     "data": {
      "image/png": "[encoded data removed]",
      "text/plain": [
       "<Figure size 432x288 with 1 Axes>"
      ]
     },
     "metadata": {
      "needs_background": "light"
     },
     "output_type": "display_data"
    },
    {
     "data": {
      "image/png": "[encoded data removed]",
      "text/plain": [
       "<Figure size 432x288 with 1 Axes>"
      ]
     },
     "metadata": {
      "needs_background": "light"
     },
     "output_type": "display_data"
    }
   ],
   "source": [
    "# 2.1 Preview downloaded raw mages\n",
    "def preview_raw_data(show_count=10):\n",
    "    path = os.path.join(data_folder)  \n",
    "\n",
    "    for i, file in enumerate(os.listdir(path)):  # iterate over each image in dir\n",
    "        if not file.endswith('.png'):\n",
    "            continue\n",
    "\n",
    "        # load image as color, but not in original color\n",
    "        img_array = cv2.imread(os.path.join(path,file), cv2.IMREAD_COLOR)\n",
    "\n",
    "        # convert back to original color\n",
    "        img_array_RGB = cv2.cvtColor(img_array,cv2.COLOR_BGR2RGB)\n",
    "\n",
    "        plt.axis('off')\n",
    "        plt.imshow(img_array_RGB)\n",
    "        plt.show()\n",
    "\n",
    "        if i > show_count:\n",
    "            break  \n",
    "            \n",
    "preview_raw_data()"
   ]
  },
  {
   "cell_type": "code",
   "execution_count": 16,
   "metadata": {},
   "outputs": [],
   "source": [
    "#######################\n",
    "# crop / split analysis\n",
    "#\n",
    "# each large multi images spritesheet is 576x288, \n",
    "# it followed a foramt pattern of 6 images width by 3 images height\n",
    "# width  = 576 / 6 = 96\n",
    "# height = 288 / 3 = 96\n",
    "# so crop large spritesheet to 6x3=18 smaller images\n",
    "######################"
   ]
  },
  {
   "cell_type": "code",
   "execution_count": 17,
   "metadata": {},
   "outputs": [],
   "source": [
    "# !conda install Pillow"
   ]
  },
  {
   "cell_type": "code",
   "execution_count": 18,
   "metadata": {},
   "outputs": [
    {
     "data": {
      "application/vnd.jupyter.widget-view+json": {
       "model_id": "71f6c44b67dc441ca09babc25a69bc1d",
       "version_major": 2,
       "version_minor": 0
      },
      "text/plain": [
       "HBox(children=(IntProgress(value=0, max=625), HTML(value='')))"
      ]
     },
     "metadata": {},
     "output_type": "display_data"
    }
   ],
   "source": [
    "# 2.2 rename all files - no longer needed\n",
    "#\n",
    "# remove prefix 'File:'\n",
    "# e.g. \n",
    "# from File:FFRK_Devout_sprites.png\n",
    "# to   FFRK_Devout_sprites.png\n",
    "\n",
    "def rename_images():\n",
    "    pattern = '*.png'\n",
    "    path = data_folder\n",
    "    for file in tqdm_notebook(os.listdir(path)):\n",
    "        if not file.endswith('.png'):\n",
    "            continue\n",
    "\n",
    "        file_path = os.path.join(path, file)\n",
    "        # print ('Renaming %s' % (file_path))\n",
    "\n",
    "        os.rename(file_path, os.path.join(path, file.replace('File:', '')))\n",
    "    \n",
    "rename_images()"
   ]
  },
  {
   "cell_type": "code",
   "execution_count": 19,
   "metadata": {},
   "outputs": [
    {
     "data": {
      "text/plain": [
       "<matplotlib.image.AxesImage at 0x7f3f9d90a978>"
      ]
     },
     "execution_count": 19,
     "metadata": {},
     "output_type": "execute_result"
    },
    {
     "data": {
      "image/png": "[encoded data removed]",
      "text/plain": [
       "<Figure size 432x288 with 1 Axes>"
      ]
     },
     "metadata": {
      "needs_background": "light"
     },
     "output_type": "display_data"
    }
   ],
   "source": [
    "# 2.3 crop/rip from big spritesheet with multi images, copy single 96x96 images\n",
    "from PIL import Image\n",
    "\n",
    "# Testing - try crop one image first\n",
    "img_path = 'data/FFRK_Devout_sprites.png'\n",
    "img = Image.open(img_path)\n",
    "plt.imshow(img)"
   ]
  },
  {
   "cell_type": "code",
   "execution_count": 20,
   "metadata": {},
   "outputs": [
    {
     "name": "stdout",
     "output_type": "stream",
     "text": [
      "image width is 576\n",
      "image height is 288\n",
      "box dimention is (0, 0, 96, 96)\n",
      "<class 'PIL.Image.Image'>\n"
     ]
    },
    {
     "data": {
      "text/plain": [
       "<matplotlib.image.AxesImage at 0x7f3f9e25c2b0>"
      ]
     },
     "execution_count": 20,
     "metadata": {},
     "output_type": "execute_result"
    },
    {
     "data": {
      "image/png": "[encoded data removed]",
      "text/plain": [
       "<Figure size 432x288 with 1 Axes>"
      ]
     },
     "metadata": {
      "needs_background": "light"
     },
     "output_type": "display_data"
    }
   ],
   "source": [
    "crop_area_width = 96\n",
    "crop_area_height = 96\n",
    "\n",
    "img_width, img_height = img.size\n",
    "\n",
    "print ('image width is %d' % (img_width))\n",
    "print ('image height is %d' % (img_height))\n",
    "\n",
    "start_x = 0\n",
    "start_y = 0\n",
    "box = (start_x, start_y, start_x+crop_area_width, start_y+crop_area_height)\n",
    "\n",
    "print('box dimention is %s' % (str(box)))\n",
    "\n",
    "# not saved yet, in memory only\n",
    "img_crop = img.crop(box)\n",
    "print (type(img_crop))\n",
    "plt.imshow(img_crop)\n"
   ]
  },
  {
   "cell_type": "code",
   "execution_count": 29,
   "metadata": {
    "scrolled": true
   },
   "outputs": [],
   "source": [
    "# crop all images in one large sprite sheet\n",
    "crop_area_width = 96\n",
    "crop_area_height = 96\n",
    "\n",
    "img_width, img_height = img.size\n",
    "\n",
    "def split_n_save_one_large_spritesheet(img_crop_path):\n",
    "\n",
    "    crop_count = 0 # start on 1 in code below, not 0\n",
    "\n",
    "    for h in range(0, img_height, crop_area_height): # ↓ second\n",
    "        for w in range(0, img_width, crop_area_width): # → first\n",
    "            start_x = w\n",
    "            start_y = h\n",
    "            box = (start_x, start_y, start_x+crop_area_width, start_y+crop_area_height)\n",
    "            # print('box dimention is %s' % (str(box)))\n",
    "\n",
    "            img = Image.open(img_crop_path)\n",
    "            \n",
    "            img_crop = img.crop(box)\n",
    "            # plt.imshow(img_crop)\n",
    "            # plt.show()\n",
    "\n",
    "            filename = os.path.basename(img_crop_path)\n",
    "            # e.g. 'data/FFRK_Devout_sprites.png'\n",
    "            \n",
    "            path_no_ext, ext = os.path.splitext(img_crop_path)\n",
    "            # e.g. data/FFRK_Devout_sprites\n",
    "            # e.g. .png\n",
    "\n",
    "            save_no_ext = path_no_ext.replace('data/', '%s/'%img_folder)\n",
    "            # e.g. img/FFRK_Devout_sprites\n",
    "\n",
    "            crop_count += 1 # start on 1, not 0\n",
    "\n",
    "            if (crop_count < 10):\n",
    "                str_crop_count = '0%d' % crop_count\n",
    "            else:\n",
    "                str_crop_count = '%d' % crop_count\n",
    "\n",
    "            img_crop_filename = os.path.join('%s%s%s'%(save_no_ext, str_crop_count, ext))\n",
    "\n",
    "            if os.path.exists(img_crop_filename):\n",
    "                # print ('%s already exist.' % (img_crop_filename))\n",
    "                continue\n",
    "\n",
    "            # print ('Saving image %s' % (img_crop_filename))\n",
    "\n",
    "            img_crop.save(img_crop_filename)\n",
    "            \n",
    "    # print ('Saved spritesheet cropped images on %s' % (img_crop_path))\n",
    "            "
   ]
  },
  {
   "cell_type": "code",
   "execution_count": 30,
   "metadata": {},
   "outputs": [],
   "source": [
    "# test run\n",
    "# img_path = 'data/FFRK_Devout_sprites.png'\n",
    "# split_n_save_one_large_spritesheet(img_path)"
   ]
  },
  {
   "cell_type": "code",
   "execution_count": 31,
   "metadata": {},
   "outputs": [],
   "source": [
    "# crop all large sprite sheet into smaller 96x96 images\n",
    "\n",
    "input_path = data_folder\n",
    "output_path = img_folder\n",
    "\n",
    "def crop_all_large_spritesheets(sprite_sheet_width=576, sprite_sheet_height=288):   \n",
    "    \n",
    "    #create folders if not exist\n",
    "    if not os.path.exists(output_path):\n",
    "        os.makedirs(output_path)\n",
    "\n",
    "    for file in tqdm_notebook(os.listdir(input_path)):\n",
    "        if not file.endswith('.png'):\n",
    "            continue\n",
    "\n",
    "        # check size\n",
    "        img_path = os.path.join(input_path, file)\n",
    "        img = Image.open(img_path)\n",
    "        img_width, img_height = img.size\n",
    "\n",
    "        if img_width == sprite_sheet_width and img_height == sprite_sheet_height:\n",
    "#             print (img_path)\n",
    "            split_n_save_one_large_spritesheet(img_path)\n",
    "    \n",
    "    print ('Saved spritesheet cropped images on %s' % (output_path))\n"
   ]
  },
  {
   "cell_type": "code",
   "execution_count": 32,
   "metadata": {
    "scrolled": true
   },
   "outputs": [
    {
     "data": {
      "application/vnd.jupyter.widget-view+json": {
       "model_id": "953ecacc08ad455eba1e78da53ebd4b4",
       "version_major": 2,
       "version_minor": 0
      },
      "text/plain": [
       "HBox(children=(IntProgress(value=0, max=625), HTML(value='')))"
      ]
     },
     "metadata": {},
     "output_type": "display_data"
    },
    {
     "name": "stdout",
     "output_type": "stream",
     "text": [
      "Saved spritesheet cropped images on img\n"
     ]
    }
   ],
   "source": [
    "# crop sprite sheet of size w=576 x h=288\n",
    "crop_all_large_spritesheets()"
   ]
  },
  {
   "cell_type": "code",
   "execution_count": 33,
   "metadata": {
    "scrolled": true
   },
   "outputs": [
    {
     "data": {
      "application/vnd.jupyter.widget-view+json": {
       "model_id": "2e6e461610384536ac2706bd04653c17",
       "version_major": 2,
       "version_minor": 0
      },
      "text/plain": [
       "HBox(children=(IntProgress(value=0, max=625), HTML(value='')))"
      ]
     },
     "metadata": {},
     "output_type": "display_data"
    },
    {
     "name": "stdout",
     "output_type": "stream",
     "text": [
      "Saved spritesheet cropped images on img\n"
     ]
    }
   ],
   "source": [
    "# crop sprite sheet of size w=480 x h=96\n",
    "crop_all_large_spritesheets(480, 96)\n",
    "# result 16 images"
   ]
  },
  {
   "cell_type": "code",
   "execution_count": 34,
   "metadata": {},
   "outputs": [],
   "source": [
    "# copy any single 96x96 images from data folder to img folder\n",
    "from shutil import copyfile\n",
    "\n",
    "copy_from_path = data_folder\n",
    "copy_to_path = img_folder\n",
    "\n",
    "def copy_single_sprites(sprite_sheet_width=96, sprite_sheet_height=96):    \n",
    "    for file in tqdm_notebook(os.listdir(copy_from_path)):\n",
    "        if not file.endswith('.png'):\n",
    "            continue\n",
    "            \n",
    "        # check size\n",
    "        copy_img_from_path = os.path.join(copy_from_path, file)\n",
    "        copy_img_to_path = os.path.join(copy_to_path, file)\n",
    "        img = Image.open(copy_img_from_path)\n",
    "        img_width, img_height = img.size\n",
    "\n",
    "        if img_width == sprite_sheet_width and img_height == sprite_sheet_height:\n",
    "            copyfile(copy_img_from_path, copy_img_to_path)\n"
   ]
  },
  {
   "cell_type": "code",
   "execution_count": 35,
   "metadata": {},
   "outputs": [
    {
     "data": {
      "application/vnd.jupyter.widget-view+json": {
       "model_id": "55c90f75ec144b2bb57815bf141198ec",
       "version_major": 2,
       "version_minor": 0
      },
      "text/plain": [
       "HBox(children=(IntProgress(value=0, max=625), HTML(value='')))"
      ]
     },
     "metadata": {},
     "output_type": "display_data"
    }
   ],
   "source": [
    "copy_single_sprites(96, 96)\n",
    "\n",
    "# there will be duplicates \n",
    "# as some single image sprite 96x96 already included inside larger sprite sheets 576x288"
   ]
  },
  {
   "cell_type": "code",
   "execution_count": 36,
   "metadata": {},
   "outputs": [],
   "source": [
    "# result analysis\n",
    "# there are 272 large spitesheets 576x288, each with 18 smaller images 96x96 inside\n",
    "# result is 4896 cropped images, all images size are 96x96\n",
    "\n",
    "# also 4 larger spritesheets 480x96 = 5 smaller images in each spritesheet =result 20 images\n",
    "\n",
    "# there are some single images 96x96 downloaded, not original in any large sprite sheet\n",
    "# i just copied them from data folder to img folder\n",
    "\n",
    "# there are a total of 5183 images extracted to img folder\n",
    "# see if you already have enough data for the deep learning GAN model on part 3"
   ]
  },
  {
   "cell_type": "code",
   "execution_count": 37,
   "metadata": {},
   "outputs": [
    {
     "data": {
      "image/png": "[encoded data removed]",
      "text/plain": [
       "<Figure size 432x288 with 1 Axes>"
      ]
     },
     "metadata": {
      "needs_background": "light"
     },
     "output_type": "display_data"
    },
    {
     "data": {
      "image/png": "[encoded data removed]",
      "text/plain": [
       "<Figure size 432x288 with 1 Axes>"
      ]
     },
     "metadata": {
      "needs_background": "light"
     },
     "output_type": "display_data"
    }
   ],
   "source": [
    "# 2.4 detect and delete blank + mini character images\n",
    "#   there are some blank image cropped from large spritesheet empty area - to delete\n",
    "#   there are mini version of the characters cropped from large spritesheet - to delete\n",
    "\n",
    "import numpy as np\n",
    "import matplotlib.pyplot as plt\n",
    "import os\n",
    "import cv2\n",
    "from tqdm import tqdm\n",
    "from PIL import Image\n",
    "\n",
    "# view blank image\n",
    "def view_img(img_blank_path):\n",
    "    img = Image.open(img_blank_path)\n",
    "    plt.imshow(img)\n",
    "    plt.show()\n",
    "        \n",
    "img_blank_path = 'img/FFRK_Ace_sprites15.png'\n",
    "view_img(img_blank_path)\n",
    "# file no longer exist if deleted\n",
    "\n",
    "img_mini_character_path = 'img/FFRK_Adult_Rydia_sprites16.png'\n",
    "view_img(img_mini_character_path)\n",
    "# file no longer exist if deleted\n"
   ]
  },
  {
   "cell_type": "code",
   "execution_count": 38,
   "metadata": {},
   "outputs": [],
   "source": [
    "# detect blank image, all black or all white\n",
    "# Python PIL Detect if an image is completely black or white\n",
    "#   https://stackoverflow.com/questions/14041562/python-pil-detect-if-an-image-is-completely-black-or-white\n",
    "\n",
    "from PIL import ImageChops\n",
    "\n",
    "def detect_black_img(img_path):\n",
    "    img = Image.open(img_path)\n",
    "    \n",
    "    isblack = not img.getbbox()\n",
    "    # if isblack:\n",
    "    #    print ('%s - Image is all black' % (img_path))\n",
    "    return isblack\n",
    "            \n",
    "def detect_white_img(img_path):\n",
    "    img = Image.open(img_path)\n",
    "    \n",
    "    iswhite = not ImageChops.invert(img).getbbox()\n",
    "    # if iswhite:\n",
    "    #    print ('%s - Image is all white' % (img_path))\n",
    "    return iswhite\n",
    "\n",
    "def detect_empty_img(img_path):\n",
    "    if detect_black_img(img_path) or detect_black_img(img_path):\n",
    "        return True\n",
    "    else:\n",
    "        return False\n",
    "    "
   ]
  },
  {
   "cell_type": "code",
   "execution_count": 39,
   "metadata": {},
   "outputs": [
    {
     "data": {
      "text/plain": [
       "True"
      ]
     },
     "execution_count": 39,
     "metadata": {},
     "output_type": "execute_result"
    }
   ],
   "source": [
    "# test detect an empty image\n",
    "img_path = 'img/FFRK_Ace_sprites15.png'\n",
    "detect_empty_img(img_path)"
   ]
  },
  {
   "cell_type": "code",
   "execution_count": 40,
   "metadata": {},
   "outputs": [
    {
     "data": {
      "text/plain": [
       "False"
      ]
     },
     "execution_count": 40,
     "metadata": {},
     "output_type": "execute_result"
    }
   ],
   "source": [
    "# test detect a normal image\n",
    "img_path = 'img/FFRK_Ace_sprites10.png'\n",
    "detect_empty_img(img_path)"
   ]
  },
  {
   "cell_type": "code",
   "execution_count": 41,
   "metadata": {},
   "outputs": [
    {
     "name": "stdout",
     "output_type": "stream",
     "text": [
      "before delete img/FFRK_Ace_sprites11.png - file exist = True\n",
      "after delete img/FFRK_Ace_sprites11.png - file exist = False\n"
     ]
    }
   ],
   "source": [
    "# test delete an image\n",
    "\n",
    "img_path = 'img/FFRK_Ace_sprites11.png'\n",
    "print ('before delete %s - file exist = %s' % (img_path, os.path.exists(img_path)))\n",
    "\n",
    "os.remove(img_path)\n",
    "print ('after delete %s - file exist = %s' % (img_path, os.path.exists(img_path)))\n"
   ]
  },
  {
   "cell_type": "code",
   "execution_count": 42,
   "metadata": {},
   "outputs": [],
   "source": [
    "# delete all blank images\n",
    "def delete_all_blank_img(img_path):    \n",
    "    for file in tqdm_notebook(os.listdir(img_path)):\n",
    "        if not file.endswith('.png'):\n",
    "            continue\n",
    "            \n",
    "        next_img_from_path = os.path.join(img_path, file)\n",
    "        if detect_empty_img(next_img_from_path):\n",
    "            # print ('Deleting image %s' % (next_img_from_path))\n",
    "            os.remove(next_img_from_path)\n",
    "            \n",
    "    print ('Deleted all blank images in %s.' % (img_path))"
   ]
  },
  {
   "cell_type": "code",
   "execution_count": 43,
   "metadata": {},
   "outputs": [
    {
     "data": {
      "application/vnd.jupyter.widget-view+json": {
       "model_id": "67d29449b1a64832ad66797a45fd9e8d",
       "version_major": 2,
       "version_minor": 0
      },
      "text/plain": [
       "HBox(children=(IntProgress(value=0, max=5250), HTML(value='')))"
      ]
     },
     "metadata": {},
     "output_type": "display_data"
    },
    {
     "name": "stdout",
     "output_type": "stream",
     "text": [
      "Deleted all blank images in img.\n"
     ]
    }
   ],
   "source": [
    "delete_all_blank_img(img_folder)"
   ]
  },
  {
   "cell_type": "code",
   "execution_count": 44,
   "metadata": {},
   "outputs": [],
   "source": [
    "# 4763 images left after deleted blank images"
   ]
  },
  {
   "cell_type": "code",
   "execution_count": 45,
   "metadata": {},
   "outputs": [
    {
     "data": {
      "image/png": "[encoded data removed]",
      "text/plain": [
       "<Figure size 432x288 with 1 Axes>"
      ]
     },
     "metadata": {
      "needs_background": "light"
     },
     "output_type": "display_data"
    },
    {
     "data": {
      "image/png": "[encoded data removed]",
      "text/plain": [
       "<Figure size 432x288 with 1 Axes>"
      ]
     },
     "metadata": {
      "needs_background": "light"
     },
     "output_type": "display_data"
    },
    {
     "data": {
      "image/png": "[encoded data removed]",
      "text/plain": [
       "<Figure size 432x288 with 1 Axes>"
      ]
     },
     "metadata": {
      "needs_background": "light"
     },
     "output_type": "display_data"
    }
   ],
   "source": [
    "# Delete mini character images\n",
    "\n",
    "# view\n",
    "img_small_character_paths = []\n",
    "img_small_character_paths.append('img/FFRK_Adult_Rydia_sprites14.png')\n",
    "img_small_character_paths.append('img/FFRK_Adult_Rydia_sprites15.png')\n",
    "img_small_character_paths.append('img/FFRK_Adult_Rydia_sprites16.png')\n",
    "img_small_character_paths.append('img/FFRK_Adult_Rydia_sprites17.png')\n",
    "\n",
    "img_small_character_paths.append('img/FFRK_Aerith_sprites14.png')\n",
    "img_small_character_paths.append('img/FFRK_Aerith_sprites15.png')\n",
    "img_small_character_paths.append('img/FFRK_Aerith_sprites16.png')\n",
    "img_small_character_paths.append('img/FFRK_Aerith_sprites17.png')\n",
    "\n",
    "img_small_character_paths.append('img/FFRK_Terra_Esper_sprites14.png')\n",
    "img_small_character_paths.append('img/FFRK_Terra_Esper_sprites15.png')\n",
    "img_small_character_paths.append('img/FFRK_Terra_Esper_sprites16.png')\n",
    "img_small_character_paths.append('img/FFRK_Terra_Esper_sprites17.png')\n",
    "\n",
    "view_img(img_small_character_paths[0])\n",
    "view_img(img_small_character_paths[4])\n",
    "view_img(img_small_character_paths[8])\n"
   ]
  },
  {
   "cell_type": "code",
   "execution_count": 46,
   "metadata": {},
   "outputs": [
    {
     "data": {
      "image/png": "[encoded data removed]",
      "text/plain": [
       "<Figure size 432x288 with 1 Axes>"
      ]
     },
     "metadata": {
      "needs_background": "light"
     },
     "output_type": "display_data"
    },
    {
     "data": {
      "image/png": "[encoded data removed]",
      "text/plain": [
       "<Figure size 432x288 with 1 Axes>"
      ]
     },
     "metadata": {
      "needs_background": "light"
     },
     "output_type": "display_data"
    },
    {
     "data": {
      "image/png": "[encoded data removed]",
      "text/plain": [
       "<Figure size 432x288 with 1 Axes>"
      ]
     },
     "metadata": {
      "needs_background": "light"
     },
     "output_type": "display_data"
    }
   ],
   "source": [
    "img_normal_character_paths = []\n",
    "img_normal_character_paths.append('img/FFRK_Adult_Rydia_sprites04.png')\n",
    "img_normal_character_paths.append('img/FFRK_Adult_Rydia_sprites05.png')\n",
    "img_normal_character_paths.append('img/FFRK_Adult_Rydia_sprites06.png')\n",
    "img_normal_character_paths.append('img/FFRK_Adult_Rydia_sprites07.png')\n",
    "\n",
    "img_normal_character_paths.append('img/FFRK_Aerith_sprites04.png')\n",
    "img_normal_character_paths.append('img/FFRK_Aerith_sprites05.png')\n",
    "img_normal_character_paths.append('img/FFRK_Aerith_sprites06.png')\n",
    "img_normal_character_paths.append('img/FFRK_Aerith_sprites07.png')\n",
    "\n",
    "img_normal_character_paths.append('img/FFRK_Terra_Esper_sprites04.png')\n",
    "img_normal_character_paths.append('img/FFRK_Terra_Esper_sprites05.png')\n",
    "img_normal_character_paths.append('img/FFRK_Terra_Esper_sprites06.png')\n",
    "img_normal_character_paths.append('img/FFRK_Terra_Esper_sprites07.png')\n",
    "\n",
    "view_img(img_normal_character_paths[0])\n",
    "view_img(img_normal_character_paths[4])\n",
    "view_img(img_normal_character_paths[8])"
   ]
  },
  {
   "cell_type": "code",
   "execution_count": 47,
   "metadata": {},
   "outputs": [],
   "source": [
    "import cv2\n",
    "import numpy as np\n",
    "\n",
    "def check_white_black_color_pixels(img_path):\n",
    "    img = cv2.imread(img_path, cv2.IMREAD_GRAYSCALE)\n",
    "    num_white_pixel = np.sum(img == 255)\n",
    "    num_black_pixel = np.sum(img == 0)\n",
    "    \n",
    "    img_no_black = img[img != 0]\n",
    "    img_no_white_n_black = img_no_black[img_no_black != 255]\n",
    "    num_color_pixel = len(img_no_white_n_black)\n",
    "    \n",
    "    # print ('white pixels=%d, black pixels=%d, color pixels=%d' % (num_white_pixel, num_black_pixel, num_color_pixel))\n",
    "\n",
    "    return (num_white_pixel, num_black_pixel, num_color_pixel)"
   ]
  },
  {
   "cell_type": "code",
   "execution_count": 48,
   "metadata": {},
   "outputs": [
    {
     "name": "stdout",
     "output_type": "stream",
     "text": [
      "(2592, 5958, 666)\n",
      "(2592, 5886, 738)\n",
      "(2592, 5886, 738)\n",
      "(2592, 6021, 603)\n",
      "(2592, 5877, 747)\n",
      "(2592, 5805, 819)\n",
      "(2592, 5805, 819)\n",
      "(2592, 5994, 630)\n",
      "(2304, 6210, 702)\n",
      "(2304, 6156, 756)\n",
      "(2304, 6156, 756)\n",
      "(2304, 6273, 639)\n"
     ]
    }
   ],
   "source": [
    "# check roughly how many white pixels in small character image\n",
    "for i in range(len(img_small_character_paths)):\n",
    "    print (check_white_black_color_pixels(img_small_character_paths[i]))"
   ]
  },
  {
   "cell_type": "code",
   "execution_count": 49,
   "metadata": {},
   "outputs": [
    {
     "name": "stdout",
     "output_type": "stream",
     "text": [
      "(2304, 4599, 2313)\n",
      "(2304, 4617, 2295)\n",
      "(3384, 3672, 2160)\n",
      "(4104, 2673, 2439)\n",
      "(2304, 4707, 2205)\n",
      "(2304, 4680, 2232)\n",
      "(3168, 3609, 2439)\n",
      "(3888, 2907, 2421)\n",
      "(2304, 4464, 2448)\n",
      "(2304, 4671, 2241)\n",
      "(3168, 3843, 2205)\n",
      "(4032, 3087, 2097)\n"
     ]
    }
   ],
   "source": [
    "# check roughly how many white pixels in norma; character image\n",
    "for i in range(len(img_normal_character_paths)):\n",
    "    print (check_white_black_color_pixels(img_normal_character_paths[i]))"
   ]
  },
  {
   "cell_type": "code",
   "execution_count": 50,
   "metadata": {},
   "outputs": [],
   "source": [
    "# if color pixels is less than 1000, assume it is a mini character image\n",
    "# delete if less than 1000, captured most mini character images, but not all\n",
    "\n",
    "def delete_all_mini_character_img(img_path): \n",
    "    \n",
    "    min_color_pixels = 1000\n",
    "    \n",
    "    for file in tqdm_notebook(os.listdir(img_path)):\n",
    "        if not file.endswith('.png'):\n",
    "            continue\n",
    "            \n",
    "        next_img_from_path = os.path.join(img_path, file)\n",
    "        \n",
    "        _, _, color_pixels = check_white_black_color_pixels(next_img_from_path)\n",
    "        if color_pixels < min_color_pixels:\n",
    "            # print ('Image have only %d pixels' % (color_pixels))\n",
    "            # print ('Deleting image %s' % (next_img_from_path))\n",
    "            os.remove(next_img_from_path)\n",
    "            \n",
    "    print ('Deleted all mini character images in %s.' % (img_path))"
   ]
  },
  {
   "cell_type": "code",
   "execution_count": 51,
   "metadata": {},
   "outputs": [
    {
     "data": {
      "application/vnd.jupyter.widget-view+json": {
       "model_id": "65090a3430fe4f468df44b7556fc7edb",
       "version_major": 2,
       "version_minor": 0
      },
      "text/plain": [
       "HBox(children=(IntProgress(value=0, max=4763), HTML(value='')))"
      ]
     },
     "metadata": {},
     "output_type": "display_data"
    },
    {
     "name": "stdout",
     "output_type": "stream",
     "text": [
      "Deleted all mini character images in img.\n"
     ]
    }
   ],
   "source": [
    "img_path = 'img'\n",
    "delete_all_mini_character_img(img_path)"
   ]
  },
  {
   "cell_type": "code",
   "execution_count": 52,
   "metadata": {},
   "outputs": [],
   "source": [
    "# 3838 / 4763 images (81%) left after deletion"
   ]
  },
  {
   "cell_type": "code",
   "execution_count": 53,
   "metadata": {
    "scrolled": true
   },
   "outputs": [
    {
     "data": {
      "image/png": "[encoded data removed]",
      "text/plain": [
       "<Figure size 432x288 with 1 Axes>"
      ]
     },
     "metadata": {
      "needs_background": "light"
     },
     "output_type": "display_data"
    }
   ],
   "source": [
    "# Resize image from 96x96 to smaller dimension 32x32\n",
    "\n",
    "IMG_SIZE = 32\n",
    "\n",
    "def test_img_resize():\n",
    "    img_path_to_resize = 'img/FFRK_Devout_sprites02.png'\n",
    "    img_array = cv2.imread(img_path_to_resize, cv2.IMREAD_COLOR)\n",
    "    # img_array = cv2.imread(os.path.join(path,file), cv2.IMREAD_COLOR)  # convert to array\n",
    "    \n",
    "    # convert back to original color\n",
    "    img_array_RGB = cv2.cvtColor(img_array,cv2.COLOR_BGR2RGB)\n",
    "\n",
    "    new_array_resize = cv2.resize(img_array_RGB, (IMG_SIZE, IMG_SIZE))\n",
    "\n",
    "    # plt.axis('off')\n",
    "    plt.imshow(new_array_resize)\n",
    "    plt.show()\n",
    "\n",
    "test_img_resize()\n"
   ]
  },
  {
   "cell_type": "code",
   "execution_count": 57,
   "metadata": {},
   "outputs": [],
   "source": [
    "# 2.5 resize all images to same dimension 32x32\n",
    "# in img folder, from 96x96 to 32x32\n",
    "\n",
    "import numpy as np\n",
    "import matplotlib.pyplot as plt\n",
    "import os\n",
    "import cv2\n",
    "from tqdm import tqdm\n",
    "\n",
    "img_resized = []\n",
    "\n",
    "def all_imgs_resize_in_memory(img_folder='img', img_resize=32, display=10):\n",
    "    c = 0\n",
    "    for file in tqdm_notebook(os.listdir(img_folder)):\n",
    "        if not file.endswith('.png'):\n",
    "            continue\n",
    "            \n",
    "        img_path_to_resize = os.path.join(img_folder, file)\n",
    "        img_array = cv2.imread(img_path_to_resize, cv2.IMREAD_COLOR)\n",
    "\n",
    "        # convert back to original color\n",
    "        img_array_RGB = cv2.cvtColor(img_array,cv2.COLOR_BGR2RGB)\n",
    "\n",
    "        # resize\n",
    "        new_array_resized = cv2.resize(img_array_RGB, (img_resize, img_resize))\n",
    "\n",
    "        # add to list\n",
    "        img_resized.append(new_array_resized)\n",
    "        \n",
    "        c+=1\n",
    "        \n",
    "        # display the first 10 images only\n",
    "        if c < display+1:\n",
    "            # plt.axis('off')\n",
    "            plt.imshow(new_array_resized)    \n",
    "            plt.show()  # display!\n",
    "#         else:\n",
    "#             break\n",
    "    print ('Saved all resixed images in memory %s.' % ('img_resized'))"
   ]
  },
  {
   "cell_type": "code",
   "execution_count": 58,
   "metadata": {
    "scrolled": true
   },
   "outputs": [
    {
     "data": {
      "application/vnd.jupyter.widget-view+json": {
       "model_id": "fe193386e5b343168c8fdbf5e76d7c21",
       "version_major": 2,
       "version_minor": 0
      },
      "text/plain": [
       "HBox(children=(IntProgress(value=0, max=3838), HTML(value='')))"
      ]
     },
     "metadata": {},
     "output_type": "display_data"
    },
    {
     "data": {
      "image/png": "[encoded data removed]",
      "text/plain": [
       "<Figure size 432x288 with 1 Axes>"
      ]
     },
     "metadata": {
      "needs_background": "light"
     },
     "output_type": "display_data"
    },
    {
     "data": {
      "image/png": "[encoded data removed]",
      "text/plain": [
       "<Figure size 432x288 with 1 Axes>"
      ]
     },
     "metadata": {
      "needs_background": "light"
     },
     "output_type": "display_data"
    },
    {
     "data": {
      "image/png": "[encoded data removed]",
      "text/plain": [
       "<Figure size 432x288 with 1 Axes>"
      ]
     },
     "metadata": {
      "needs_background": "light"
     },
     "output_type": "display_data"
    },
    {
     "data": {
      "image/png": "[encoded data removed]",
      "text/plain": [
       "<Figure size 432x288 with 1 Axes>"
      ]
     },
     "metadata": {
      "needs_background": "light"
     },
     "output_type": "display_data"
    },
    {
     "data": {
      "image/png": "[encoded data removed]",
      "text/plain": [
       "<Figure size 432x288 with 1 Axes>"
      ]
     },
     "metadata": {
      "needs_background": "light"
     },
     "output_type": "display_data"
    },
    {
     "data": {
      "image/png": "[encoded data removed]",
      "text/plain": [
       "<Figure size 432x288 with 1 Axes>"
      ]
     },
     "metadata": {
      "needs_background": "light"
     },
     "output_type": "display_data"
    },
    {
     "data": {
      "image/png": "[encoded data removed]",
      "text/plain": [
       "<Figure size 432x288 with 1 Axes>"
      ]
     },
     "metadata": {
      "needs_background": "light"
     },
     "output_type": "display_data"
    },
    {
     "data": {
      "image/png": "[encoded data removed]",
      "text/plain": [
       "<Figure size 432x288 with 1 Axes>"
      ]
     },
     "metadata": {
      "needs_background": "light"
     },
     "output_type": "display_data"
    },
    {
     "data": {
      "image/png": "[encoded data removed]",
      "text/plain": [
       "<Figure size 432x288 with 1 Axes>"
      ]
     },
     "metadata": {
      "needs_background": "light"
     },
     "output_type": "display_data"
    },
    {
     "data": {
      "image/png": "[encoded data removed]",
      "text/plain": [
       "<Figure size 432x288 with 1 Axes>"
      ]
     },
     "metadata": {
      "needs_background": "light"
     },
     "output_type": "display_data"
    },
    {
     "name": "stdout",
     "output_type": "stream",
     "text": [
      "Saved all resixed images in memory img_resized.\n"
     ]
    }
   ],
   "source": [
    "# resize to 32x32, display first 10 only\n",
    "all_imgs_resize_in_memory('img', 32, 10)"
   ]
  },
  {
   "cell_type": "code",
   "execution_count": 59,
   "metadata": {
    "scrolled": true
   },
   "outputs": [
    {
     "name": "stdout",
     "output_type": "stream",
     "text": [
      "3838\n"
     ]
    }
   ],
   "source": [
    "print (len(img_resized))"
   ]
  },
  {
   "cell_type": "code",
   "execution_count": 60,
   "metadata": {},
   "outputs": [],
   "source": [
    "# save all resized image list to a binary file\n",
    "# so all above code do not need to re-run\n",
    "\n",
    "import pickle\n",
    "\n",
    "save_path = 'x_train.pickle'\n",
    "pickle.dump(img_resized, open(save_path,\"wb\"))"
   ]
  },
  {
   "cell_type": "code",
   "execution_count": 61,
   "metadata": {},
   "outputs": [],
   "source": [
    "######################################################################\n",
    "# Part 3 - GAN \n",
    "# 3.1 load pre-processed images as x train set\n",
    "# 3.2 implement the GAN model, code ref:\n",
    "#     book deep learning with python\n",
    "#     dlnd project 5 source code\n",
    "# 3.3 after model is trained, generate some new images\n",
    "######################################################################"
   ]
  },
  {
   "cell_type": "code",
   "execution_count": 62,
   "metadata": {},
   "outputs": [],
   "source": [
    "# packages required\n",
    "import matplotlib.pyplot as plt\n",
    "import pickle\n",
    "import numpy as np"
   ]
  },
  {
   "cell_type": "code",
   "execution_count": 63,
   "metadata": {},
   "outputs": [
    {
     "name": "stdout",
     "output_type": "stream",
     "text": [
      "3838\n"
     ]
    }
   ],
   "source": [
    "# 3.1 load pre-processed images as x train set\n",
    "\n",
    "# load data back from pickle\n",
    "load_path = 'x_train.pickle'\n",
    "x_train = pickle.load(open(load_path, \"rb\"))\n",
    "print (len(x_train))"
   ]
  },
  {
   "cell_type": "code",
   "execution_count": 66,
   "metadata": {},
   "outputs": [
    {
     "data": {
      "image/png": "[encoded data removed]",
      "text/plain": [
       "<Figure size 432x288 with 1 Axes>"
      ]
     },
     "metadata": {
      "needs_background": "light"
     },
     "output_type": "display_data"
    }
   ],
   "source": [
    "# test load any image from loaded x_train\n",
    "import random\n",
    "\n",
    "plt.imshow(random.choice(x_train))\n",
    "plt.show()"
   ]
  },
  {
   "cell_type": "code",
   "execution_count": 67,
   "metadata": {},
   "outputs": [
    {
     "data": {
      "text/plain": [
       "list"
      ]
     },
     "execution_count": 67,
     "metadata": {},
     "output_type": "execute_result"
    }
   ],
   "source": [
    "type(x_train)"
   ]
  },
  {
   "cell_type": "code",
   "execution_count": 68,
   "metadata": {},
   "outputs": [],
   "source": [
    "# 3.2 implement the GAN model\n",
    "\n",
    "# Code from book - deep learning with python\n",
    "# 8.5-introduction-to-gans.ipynb\n",
    "# https://github.com/fchollet/deep-learning-with-python-notebooks/blob/master/8.5-introduction-to-gans.ipynb\n"
   ]
  },
  {
   "cell_type": "code",
   "execution_count": 69,
   "metadata": {},
   "outputs": [
    {
     "name": "stderr",
     "output_type": "stream",
     "text": [
      "Using TensorFlow backend.\n"
     ]
    },
    {
     "data": {
      "text/plain": [
       "'2.2.4'"
      ]
     },
     "execution_count": 69,
     "metadata": {},
     "output_type": "execute_result"
    }
   ],
   "source": [
    "# No change from original code\n",
    "\n",
    "import keras\n",
    "keras.__version__"
   ]
  },
  {
   "cell_type": "code",
   "execution_count": 70,
   "metadata": {},
   "outputs": [
    {
     "name": "stdout",
     "output_type": "stream",
     "text": [
      "_________________________________________________________________\n",
      "Layer (type)                 Output Shape              Param #   \n",
      "=================================================================\n",
      "input_1 (InputLayer)         (None, 32)                0         \n",
      "_________________________________________________________________\n",
      "dense_1 (Dense)              (None, 32768)             1081344   \n",
      "_________________________________________________________________\n",
      "leaky_re_lu_1 (LeakyReLU)    (None, 32768)             0         \n",
      "_________________________________________________________________\n",
      "reshape_1 (Reshape)          (None, 16, 16, 128)       0         \n",
      "_________________________________________________________________\n",
      "conv2d_1 (Conv2D)            (None, 16, 16, 256)       819456    \n",
      "_________________________________________________________________\n",
      "leaky_re_lu_2 (LeakyReLU)    (None, 16, 16, 256)       0         \n",
      "_________________________________________________________________\n",
      "conv2d_transpose_1 (Conv2DTr (None, 32, 32, 256)       1048832   \n",
      "_________________________________________________________________\n",
      "leaky_re_lu_3 (LeakyReLU)    (None, 32, 32, 256)       0         \n",
      "_________________________________________________________________\n",
      "conv2d_2 (Conv2D)            (None, 32, 32, 256)       1638656   \n",
      "_________________________________________________________________\n",
      "leaky_re_lu_4 (LeakyReLU)    (None, 32, 32, 256)       0         \n",
      "_________________________________________________________________\n",
      "conv2d_3 (Conv2D)            (None, 32, 32, 256)       1638656   \n",
      "_________________________________________________________________\n",
      "leaky_re_lu_5 (LeakyReLU)    (None, 32, 32, 256)       0         \n",
      "_________________________________________________________________\n",
      "conv2d_4 (Conv2D)            (None, 32, 32, 3)         37635     \n",
      "=================================================================\n",
      "Total params: 6,264,579\n",
      "Trainable params: 6,264,579\n",
      "Non-trainable params: 0\n",
      "_________________________________________________________________\n"
     ]
    }
   ],
   "source": [
    "import keras\n",
    "from keras import layers\n",
    "import numpy as np\n",
    "\n",
    "# original parameters\n",
    "# none\n",
    "\n",
    "# tweak parameters\n",
    "# none\n",
    "\n",
    "# these parameters should be fixed\n",
    "# as input and output images are 32x32, and 3 color channels\n",
    "latent_dim = 32\n",
    "height = 32\n",
    "width = 32\n",
    "channels = 3\n",
    "\n",
    "#####################\n",
    "# No change from here\n",
    "#####################\n",
    "\n",
    "generator_input = keras.Input(shape=(latent_dim,))\n",
    "\n",
    "# First, transform the input into a 16x16 128-channels feature map\n",
    "x = layers.Dense(128 * 16 * 16)(generator_input)\n",
    "x = layers.LeakyReLU()(x)\n",
    "x = layers.Reshape((16, 16, 128))(x)\n",
    "\n",
    "# Then, add a convolution layer\n",
    "x = layers.Conv2D(256, 5, padding='same')(x)\n",
    "x = layers.LeakyReLU()(x)\n",
    "\n",
    "# Upsample to 32x32\n",
    "x = layers.Conv2DTranspose(256, 4, strides=2, padding='same')(x)\n",
    "x = layers.LeakyReLU()(x)\n",
    "\n",
    "# Few more conv layers\n",
    "x = layers.Conv2D(256, 5, padding='same')(x)\n",
    "x = layers.LeakyReLU()(x)\n",
    "x = layers.Conv2D(256, 5, padding='same')(x)\n",
    "x = layers.LeakyReLU()(x)\n",
    "\n",
    "# Produce a 32x32 1-channel feature map\n",
    "x = layers.Conv2D(channels, 7, activation='tanh', padding='same')(x)\n",
    "generator = keras.models.Model(generator_input, x)\n",
    "generator.summary()"
   ]
  },
  {
   "cell_type": "code",
   "execution_count": 71,
   "metadata": {},
   "outputs": [
    {
     "name": "stdout",
     "output_type": "stream",
     "text": [
      "_________________________________________________________________\n",
      "Layer (type)                 Output Shape              Param #   \n",
      "=================================================================\n",
      "input_2 (InputLayer)         (None, 32, 32, 3)         0         \n",
      "_________________________________________________________________\n",
      "conv2d_5 (Conv2D)            (None, 30, 30, 128)       3584      \n",
      "_________________________________________________________________\n",
      "leaky_re_lu_6 (LeakyReLU)    (None, 30, 30, 128)       0         \n",
      "_________________________________________________________________\n",
      "conv2d_6 (Conv2D)            (None, 14, 14, 128)       262272    \n",
      "_________________________________________________________________\n",
      "leaky_re_lu_7 (LeakyReLU)    (None, 14, 14, 128)       0         \n",
      "_________________________________________________________________\n",
      "conv2d_7 (Conv2D)            (None, 6, 6, 128)         262272    \n",
      "_________________________________________________________________\n",
      "leaky_re_lu_8 (LeakyReLU)    (None, 6, 6, 128)         0         \n",
      "_________________________________________________________________\n",
      "conv2d_8 (Conv2D)            (None, 2, 2, 128)         262272    \n",
      "_________________________________________________________________\n",
      "leaky_re_lu_9 (LeakyReLU)    (None, 2, 2, 128)         0         \n",
      "_________________________________________________________________\n",
      "flatten_1 (Flatten)          (None, 512)               0         \n",
      "_________________________________________________________________\n",
      "dropout_1 (Dropout)          (None, 512)               0         \n",
      "_________________________________________________________________\n",
      "dense_2 (Dense)              (None, 1)                 513       \n",
      "=================================================================\n",
      "Total params: 790,913\n",
      "Trainable params: 790,913\n",
      "Non-trainable params: 0\n",
      "_________________________________________________________________\n"
     ]
    }
   ],
   "source": [
    "# No change from original code structure architect\n",
    "# but change parameters\n",
    "\n",
    "# original values\n",
    "# strides = 2\n",
    "# drop_out = 0.4\n",
    "# generated images is bad, nothing like original\n",
    "\n",
    "# tweaking parameter values\n",
    "strides = 2\n",
    "drop_out = 0.8 # better value to avoid overfitting\n",
    "# generated images is recognisable\n",
    "\n",
    "discriminator_input = layers.Input(shape=(height, width, channels))\n",
    "x = layers.Conv2D(128, 3)(discriminator_input)\n",
    "x = layers.LeakyReLU()(x)\n",
    "x = layers.Conv2D(128, 4, strides=strides)(x)\n",
    "x = layers.LeakyReLU()(x)\n",
    "x = layers.Conv2D(128, 4, strides=strides)(x)\n",
    "x = layers.LeakyReLU()(x)\n",
    "x = layers.Conv2D(128, 4, strides=strides)(x)\n",
    "x = layers.LeakyReLU()(x)\n",
    "x = layers.Flatten()(x)\n",
    "\n",
    "# One dropout layer - important trick!\n",
    "x = layers.Dropout(drop_out)(x)\n",
    "\n",
    "# Classification layer\n",
    "x = layers.Dense(1, activation='sigmoid')(x)\n",
    "\n",
    "discriminator = keras.models.Model(discriminator_input, x)\n",
    "discriminator.summary()\n",
    "\n",
    "# To stabilize training, we use learning rate decay\n",
    "# and gradient clipping (by value) in the optimizer.\n",
    "\n",
    "# original\n",
    "# discriminator_optimizer = keras.optimizers.RMSprop(lr=0.0008, clipvalue=1.0, decay=1e-8)\n",
    "\n",
    "# to tweak later\n",
    "discriminator_optimizer = keras.optimizers.RMSprop(lr=0.0008, clipvalue=1.0, decay=1e-8)\n",
    "\n",
    "discriminator.compile(optimizer=discriminator_optimizer, loss='binary_crossentropy')"
   ]
  },
  {
   "cell_type": "code",
   "execution_count": 72,
   "metadata": {},
   "outputs": [],
   "source": [
    "# No change from original code\n",
    "\n",
    "# Set discriminator weights to non-trainable\n",
    "# (will only apply to the `gan` model)\n",
    "discriminator.trainable = False\n",
    "\n",
    "gan_input = keras.Input(shape=(latent_dim,))\n",
    "gan_output = discriminator(generator(gan_input))\n",
    "gan = keras.models.Model(gan_input, gan_output)\n",
    "\n",
    "gan_optimizer = keras.optimizers.RMSprop(lr=0.0004, clipvalue=1.0, decay=1e-8)\n",
    "gan.compile(optimizer=gan_optimizer, loss='binary_crossentropy')"
   ]
  },
  {
   "cell_type": "code",
   "execution_count": 73,
   "metadata": {},
   "outputs": [],
   "source": [
    "# changed from original code\n",
    "import os\n",
    "from keras.preprocessing import image"
   ]
  },
  {
   "cell_type": "code",
   "execution_count": 74,
   "metadata": {},
   "outputs": [],
   "source": [
    "# Code for loading X, changed to use my own data\n",
    "x_train = np.array(x_train)\n",
    "\n",
    "x_train = x_train.reshape(\n",
    "    (x_train.shape[0],) + (height, width, channels)).astype('float32') / 255."
   ]
  },
  {
   "cell_type": "code",
   "execution_count": 75,
   "metadata": {
    "scrolled": true
   },
   "outputs": [],
   "source": [
    "###########################################################\n",
    "# Almost no change from here, except:\n",
    "#   generated + real images filenames\n",
    "#   put code into a method to re-train on saved gan weights\n",
    "###########################################################\n",
    "\n",
    "def train_model(gan, batch_size, iterations):\n",
    "\n",
    "    if not os.path.exists('gan_images'):\n",
    "        os.mkdir('gan_images')\n",
    "    \n",
    "    # save_dir = '/home/ubuntu/gan_images/' # book dir path\n",
    "    save_dir = os.curdir + '/gan_images/'   # my dir path\n",
    "\n",
    "    # Start training loop\n",
    "    start = 0\n",
    "    for step in range(iterations):\n",
    "        # Sample random points in the latent space\n",
    "        random_latent_vectors = np.random.normal(size=(batch_size, latent_dim))\n",
    "\n",
    "        # Decode them to fake images\n",
    "        generated_images = generator.predict(random_latent_vectors)\n",
    "\n",
    "        # Combine them with real images\n",
    "        stop = start + batch_size\n",
    "        real_images = x_train[start: stop]\n",
    "        combined_images = np.concatenate([generated_images, real_images])\n",
    "\n",
    "        # Assemble labels discriminating real from fake images\n",
    "        labels = np.concatenate([np.ones((batch_size, 1)),\n",
    "                                 np.zeros((batch_size, 1))])\n",
    "        # Add random noise to the labels - important trick!\n",
    "        labels += 0.05 * np.random.random(labels.shape)\n",
    "\n",
    "        # Train the discriminator\n",
    "        d_loss = discriminator.train_on_batch(combined_images, labels)\n",
    "\n",
    "        # sample random points in the latent space\n",
    "        random_latent_vectors = np.random.normal(size=(batch_size, latent_dim))\n",
    "\n",
    "        # Assemble labels that say \"all real images\"\n",
    "        misleading_targets = np.zeros((batch_size, 1))\n",
    "\n",
    "        # Train the generator (via the gan model,\n",
    "        # where the discriminator weights are frozen)\n",
    "        a_loss = gan.train_on_batch(random_latent_vectors, misleading_targets)\n",
    "\n",
    "        start += batch_size\n",
    "        if start > len(x_train) - batch_size:\n",
    "          start = 0\n",
    "\n",
    "        # Occasionally save / plot\n",
    "        if step % 100 == 0:\n",
    "            # Save model weights\n",
    "            gan.save_weights('gan.h5')\n",
    "\n",
    "            # Print metrics\n",
    "            print('discriminator loss at step %s: %s' % (step, d_loss))\n",
    "            print('adversarial loss at step %s: %s' % (step, a_loss))\n",
    "\n",
    "            # Save one generated image\n",
    "            img = image.array_to_img(generated_images[0] * 255., scale=False)\n",
    "            img.save(os.path.join(save_dir, 'generated_sprite' + str(step) + '.png'))\n",
    "\n",
    "            # Save one real image, for comparison\n",
    "            img = image.array_to_img(real_images[0] * 255., scale=False)\n",
    "            img.save(os.path.join(save_dir, 'real_sprite' + str(step) + '.png'))"
   ]
  },
  {
   "cell_type": "code",
   "execution_count": 81,
   "metadata": {},
   "outputs": [
    {
     "name": "stdout",
     "output_type": "stream",
     "text": [
      "Saved weights is loaded back to the model.\n"
     ]
    }
   ],
   "source": [
    "# gan model load weights\n",
    "# comment out the follow lines of code if training model from the beginning, \n",
    "# with no saved weights\n",
    "\n",
    "if os.path.exists('saved_gan.h5'):\n",
    "    gan.load_weights('saved_gan.h5')\n",
    "    print ('Saved weights is loaded back to the model.')\n",
    "else:\n",
    "    print ('No saved weights found.')"
   ]
  },
  {
   "cell_type": "code",
   "execution_count": 82,
   "metadata": {},
   "outputs": [
    {
     "name": "stdout",
     "output_type": "stream",
     "text": [
      "discriminator loss at step 0: 0.16278765\n",
      "adversarial loss at step 0: 8.829107\n"
     ]
    }
   ],
   "source": [
    "# hyper parameters\n",
    "# original settings\n",
    "# iterations = 10000\n",
    "# batch_size = 20\n",
    "\n",
    "# tweak parameters\n",
    "# iterations = 10000\n",
    "# batch_size = 50\n",
    "# fair result, face and body shape do look like original images, but too much noise\n",
    "\n",
    "# iterations = 10000\n",
    "# batch_size = 200 # ResourceExhaustedError\n",
    "\n",
    "iterations = 10000\n",
    "batch_size = 100 # generated acceptable result\n",
    "\n",
    "train_model(gan, batch_size, iterations)\n",
    "\n",
    "# rename saved gan file from 'gan.h5' to 'saved_gan.h5'\n",
    "# to avoid overwritten by model training code if re-run\n",
    "import os\n",
    "os.rename('gan.h5', 'saved_gan.h5')\n"
   ]
  },
  {
   "cell_type": "code",
   "execution_count": 83,
   "metadata": {},
   "outputs": [],
   "source": [
    "# save and load generator, so no need to re-train model to generate new images \n",
    "\n",
    "# save generator\n",
    "pickle.dump(generator, open('generator.pickle',\"wb\"))"
   ]
  },
  {
   "cell_type": "code",
   "execution_count": 84,
   "metadata": {},
   "outputs": [
    {
     "name": "stderr",
     "output_type": "stream",
     "text": [
      "/home/fi/anaconda3/envs/sentdex/lib/python3.6/site-packages/keras/engine/saving.py:292: UserWarning: No training configuration found in save file: the model was *not* compiled. Compile it manually.\n",
      "  warnings.warn('No training configuration found in save file: '\n"
     ]
    }
   ],
   "source": [
    "# load generator\n",
    "load_generator = pickle.load(open('generator.pickle',\"rb\"))"
   ]
  },
  {
   "cell_type": "code",
   "execution_count": 85,
   "metadata": {
    "scrolled": true
   },
   "outputs": [],
   "source": [
    "# 3.3 after model is trained, generate some new images\n",
    "import matplotlib.pyplot as plt\n",
    "\n",
    "def generate_and_show_images(gen, count):\n",
    "    # Sample random points in the latent space\n",
    "    random_latent_vectors = np.random.normal(size=(count, latent_dim))\n",
    "\n",
    "    # Decode them to fake images\n",
    "    generated_images = gen.predict(random_latent_vectors)\n",
    "\n",
    "    for i in range(generated_images.shape[0]):\n",
    "        img = image.array_to_img(generated_images[i] * 255., scale=False)\n",
    "        plt.figure()\n",
    "        plt.imshow(img)\n",
    "\n",
    "    plt.show()\n",
    "    "
   ]
  },
  {
   "cell_type": "code",
   "execution_count": 91,
   "metadata": {
    "scrolled": true
   },
   "outputs": [
    {
     "data": {
      "image/png": "[encoded data removed]",
      "text/plain": [
       "<Figure size 432x288 with 1 Axes>"
      ]
     },
     "metadata": {
      "needs_background": "light"
     },
     "output_type": "display_data"
    },
    {
     "data": {
      "image/png": "[encoded data removed]",
      "text/plain": [
       "<Figure size 432x288 with 1 Axes>"
      ]
     },
     "metadata": {
      "needs_background": "light"
     },
     "output_type": "display_data"
    },
    {
     "data": {
      "image/png": "[encoded data removed]",
      "text/plain": [
       "<Figure size 432x288 with 1 Axes>"
      ]
     },
     "metadata": {
      "needs_background": "light"
     },
     "output_type": "display_data"
    },
    {
     "data": {
      "image/png": "[encoded data removed]",
      "text/plain": [
       "<Figure size 432x288 with 1 Axes>"
      ]
     },
     "metadata": {
      "needs_background": "light"
     },
     "output_type": "display_data"
    },
    {
     "data": {
      "image/png": "[encoded data removed]",
      "text/plain": [
       "<Figure size 432x288 with 1 Axes>"
      ]
     },
     "metadata": {
      "needs_background": "light"
     },
     "output_type": "display_data"
    },
    {
     "data": {
      "image/png": "[encoded data removed]",
      "text/plain": [
       "<Figure size 432x288 with 1 Axes>"
      ]
     },
     "metadata": {
      "needs_background": "light"
     },
     "output_type": "display_data"
    },
    {
     "data": {
      "image/png": "[encoded data removed]",
      "text/plain": [
       "<Figure size 432x288 with 1 Axes>"
      ]
     },
     "metadata": {
      "needs_background": "light"
     },
     "output_type": "display_data"
    },
    {
     "data": {
      "image/png": "[encoded data removed]",
      "text/plain": [
       "<Figure size 432x288 with 1 Axes>"
      ]
     },
     "metadata": {
      "needs_background": "light"
     },
     "output_type": "display_data"
    },
    {
     "data": {
      "image/png": "[encoded data removed]",
      "text/plain": [
       "<Figure size 432x288 with 1 Axes>"
      ]
     },
     "metadata": {
      "needs_background": "light"
     },
     "output_type": "display_data"
    },
    {
     "data": {
      "image/png": "[encoded data removed]",
      "text/plain": [
       "<Figure size 432x288 with 1 Axes>"
      ]
     },
     "metadata": {
      "needs_background": "light"
     },
     "output_type": "display_data"
    }
   ],
   "source": [
    "generate_and_show_images(load_generator, 10)"
   ]
  },
  {
   "cell_type": "code",
   "execution_count": 92,
   "metadata": {},
   "outputs": [],
   "source": [
    "# display best generated images in a grid\n",
    "\n",
    "import cv2\n",
    "from tqdm import tnrange, tqdm_notebook\n",
    "\n",
    "def show_best_generated_imgs(img_folder='best_gen_result'):\n",
    "\n",
    "    # 1.load images to list\n",
    "    img_list = []\n",
    "    \n",
    "    for file in tqdm_notebook(os.listdir(img_folder)):\n",
    "        if not file.endswith('.png'):\n",
    "            continue\n",
    "            \n",
    "        img_path = os.path.join(img_folder, file)\n",
    "        img_array = cv2.imread(img_path, cv2.IMREAD_COLOR)\n",
    "\n",
    "        # convert back to original color\n",
    "        img_array_RGB = cv2.cvtColor(img_array,cv2.COLOR_BGR2RGB)\n",
    "\n",
    "        # add to list\n",
    "        img_list.append(img_array_RGB)\n",
    "                \n",
    "    # 2.display images in a grid\n",
    "    # copy and pasted from web\n",
    "    fig=plt.figure(figsize=(12, 12))\n",
    "    columns = 4\n",
    "    rows = 5\n",
    "    for i in range(1, columns*rows +1):\n",
    "        img = img_list[i]\n",
    "        fig.add_subplot(rows, columns, i)\n",
    "        plt.imshow(img)\n",
    "    plt.show()\n"
   ]
  },
  {
   "cell_type": "code",
   "execution_count": 93,
   "metadata": {},
   "outputs": [
    {
     "data": {
      "application/vnd.jupyter.widget-view+json": {
       "model_id": "f0bec461d58d4e2f980c51eb86c0444f",
       "version_major": 2,
       "version_minor": 0
      },
      "text/plain": [
       "HBox(children=(IntProgress(value=0, max=21), HTML(value='')))"
      ]
     },
     "metadata": {},
     "output_type": "display_data"
    },
    {
     "data": {
      "image/png": "[encoded data removed]",
      "text/plain": [
       "<Figure size 864x864 with 20 Axes>"
      ]
     },
     "metadata": {
      "needs_background": "light"
     },
     "output_type": "display_data"
    }
   ],
   "source": [
    "show_best_generated_imgs()"
   ]
  },
  {
   "cell_type": "code",
   "execution_count": null,
   "metadata": {},
   "outputs": [],
   "source": [
    "##########################################################\n",
    "# Result analysis on generated images in gan_images folder\n",
    "##########################################################\n",
    "# train 001 result is rubbish, images mostly a blob of pixels\n",
    "\n",
    "# train 005 result is much better, training took about 7 hours for 10000 iterations\n",
    "# with\n",
    "#   training data - blank images removed\n",
    "#   training data - mini characters images removed\n",
    "#   parameter - larger batch size\n",
    "#   parameter - larger dropout\n",
    "\n",
    "# The result is not great, the generated images have lot of noise, but recognisable."
   ]
  },
  {
   "cell_type": "code",
   "execution_count": null,
   "metadata": {},
   "outputs": [],
   "source": [
    "###########################################################\n",
    "# Ways to improve model training - notes on thu 03 jan 2018\n",
    "###########################################################\n",
    "# Data quantity + quality\n",
    "#   get more ff6 sprite images from websites\n",
    "#     currently model is training on 3800+ images, \n",
    "#     ideally should be 30k images, like some DCGAN examples\n",
    "#   filter images\n",
    "#     the character dead pose might not be suitable for training, \n",
    "#     could be remove by code\n",
    "#   cropped images background\n",
    "#     the bg is cropped on 1st and last image on each row, \n",
    "#     the pixels is best fitted on left and right of spritesheet\n",
    "#     this messes up the train data, and some cropped image bg is stripped with white and black vertically\n",
    "# GPU upgrade\n",
    "#   currently using 2015 GTX 960M 2GB, benchmark score is 2279\n",
    "#   consider 2018 RTX 2070 8GB with Tensor Core, benchmark score is 14383\n",
    "#     with 16 bit training to double VRam, which allow larger batch size\n",
    "# Hyper parameters tweaking\n",
    "#   currently training time is too slow to tweak parameters without waiting a long time  \n",
    "#   try changing dropout, batch size, learning rate, iterations\n",
    "#   and latent_dim?\n",
    "# Architecture\n",
    "#   add more layers in generator, as the discriminator lost is much smaller \n",
    "#   use different lost function and optimizer\n",
    "#\n",
    "#   try balance between generator lost and discriminator lost\n",
    "# result were like the following:\n",
    "# discriminator loss at step 9700: -0.019410443\n",
    "# adversarial loss at step 9700: 12.436728\n",
    "# discriminator loss at step 9800: -0.033391457\n",
    "# adversarial loss at step 9800: 12.792533\n",
    "# discriminator loss at step 9900: 0.19051735\n",
    "# adversarial loss at step 9900: 15.333755"
   ]
  },
  {
   "cell_type": "code",
   "execution_count": null,
   "metadata": {},
   "outputs": [],
   "source": []
  },
  {
   "cell_type": "code",
   "execution_count": null,
   "metadata": {},
   "outputs": [],
   "source": [
    "##############\n",
    "# Bibliography\n",
    "##############\n",
    "\n",
    "####################\n",
    "# main code tutorial\n",
    "\n",
    "# Getting all company pricing data in the S&P 500 - Python Programming for Finance p.6\n",
    "# https://pythonprogramming.net/sp500-company-price-data-python-programming-for-finance/?completed=/sp500-company-list-python-programming-for-finance/\n",
    "# beautiful soup - html parser, requests - web get files, pickle - dump file\n",
    "    \n",
    "# Loading in your own data - Deep Learning basics with Python, TensorFlow and Keras p.2\n",
    "# https://pythonprogramming.net/loading-custom-data-deep-learning-python-tensorflow-keras/?completed=/introduction-deep-learning-python-tensorflow-keras/\n",
    "# opencv - image load, view, re-color, resize, copy\n",
    "\n",
    "# Introduction to generative adversarial networks\n",
    "# https://github.com/fchollet/deep-learning-with-python-notebooks/blob/master/8.5-introduction-to-gans.ipynb\n",
    "# DCGAN - basic model\n",
    "\n",
    "##########\n",
    "# snippets\n",
    "\n",
    "# Find all files in a directory with extension .txt in Python\n",
    "# https://stackoverflow.com/questions/3964681/find-all-files-in-a-directory-with-extension-txt-in-python\n",
    "# import os\n",
    "# for file in os.listdir(\"/mydir\"):\n",
    "#     if file.endswith(\".txt\"):\n",
    "        \n",
    "# Get filename from file pointer [duplicate]\n",
    "# https://stackoverflow.com/questions/15225557/get-filename-from-file-pointer\n",
    "# import os\n",
    "# f = open('foo/bar.txt')\n",
    "# os.path.basename(f.name)\n",
    "\n",
    "# 10.1. os.path — Common pathname manipulations\n",
    "# https://docs.python.org/2/library/os.path.html\n",
    "# os.path.basename(path)\n",
    "    \n",
    "# Python equivalent of a given wget command\n",
    "# https://stackoverflow.com/questions/24346872/python-equivalent-of-a-given-wget-command\n",
    "    \n",
    "# Each iteration of progressbar starts a new line in Jupyter #375 \n",
    "# https://github.com/tqdm/tqdm/issues/375\n",
    "# from tqdm import tnrange, tqdm_notebook\n",
    "    \n",
    "# Open CV Getting Started with Images\n",
    "# https://docs.opencv.org/3.0-beta/doc/py_tutorials/py_gui/py_image_display/py_image_display.html    \n",
    "# cv2.IMREAD_COLOR\n",
    "    \n",
    "# OpenCV giving wrong color to colored images on loading\n",
    "# https://stackoverflow.com/questions/39316447/opencv-giving-wrong-color-to-colored-images-on-loading\n",
    "# RGB_img = cv2.cvtColor(img, cv2.COLOR_BGR2RGB) \n",
    "    \n",
    "# ImportError: No module named PIL\n",
    "# https://stackoverflow.com/questions/8863917/importerror-no-module-named-pil\n",
    "# pip install Pillow\n",
    "\n",
    "# How to Split Image Into Multiple Pieces in Python\n",
    "# https://stackoverflow.com/questions/5953373/how-to-split-image-into-multiple-pieces-in-python\n",
    "# box = (j, i, j+width, i+height)\n",
    "# a = im.crop(box)\n",
    "    \n",
    "# Batch Renaming of Files in a Directory\n",
    "# https://stackoverflow.com/questions/225735/batch-renaming-of-files-in-a-directory\n",
    "# os.rename(pathAndFilename, os.path.join(dir, titlePattern % title + ext))\n",
    "\n",
    "# How do I copy a file in Python?\n",
    "# https://stackoverflow.com/questions/123198/how-do-i-copy-a-file-in-python\n",
    "# from shutil import copyfile\n",
    "# copyfile(src, dst)\n",
    "\n",
    "# Python PIL Detect if an image is completely black or white\n",
    "# https://stackoverflow.com/questions/14041562/python-pil-detect-if-an-image-is-completely-black-or-white\n",
    "# if not img.getbbox():\n",
    "# if not ImageChops.invert(img).getbbox():\n",
    "\n",
    "# importing python modules - ImageChops\n",
    "# https://stackoverflow.com/questions/19341500/importing-python-modules-imagechops\n",
    "# from PIL import ImageChops\n",
    "\n",
    "# Python Delete File\n",
    "# https://www.w3schools.com/python/python_file_remove.asp\n",
    "# import os\n",
    "# os.remove(\"demofile.txt\") \n",
    "\n",
    "# Count total number of white pixels in an image is throwing an error\n",
    "# https://stackoverflow.com/questions/47494350/count-total-number-of-white-pixels-in-an-image-is-throwing-an-error\n",
    "# img = cv2.imread('img.png', cv2.IMREAD_GRAYSCALE)\n",
    "# n_white_pix = np.sum(img == 255)\n",
    "\n",
    "# How to randomly select an item from a list?\n",
    "# https://stackoverflow.com/questions/306400/how-to-randomly-select-an-item-from-a-list\n",
    "# random.choice(foo)\n",
    "\n",
    "# Save and load weights in keras\n",
    "# https://stackoverflow.com/questions/47266383/save-and-load-weights-in-keras\n",
    "# model.save_weights('my_model_weights.h5')\n",
    "# model.load_weights('my_model_weights.h5')\n",
    "\n",
    "# How to rename a file using Python\n",
    "# https://stackoverflow.com/questions/2491222/how-to-rename-a-file-using-python\n",
    "# os.rename('a.txt', 'b.kml')\n",
    "\n",
    "# How to display multiple images in one figure correctly? [duplicate]\n",
    "# https://stackoverflow.com/questions/46615554/how-to-display-multiple-images-in-one-figure-correctly/46616645\n",
    "# code snippet used above in notebook\n",
    "\n",
    "##############\n",
    "# links to try\n",
    "\n",
    "# Is there a way to “lock” some cells in a notebook?\n",
    "# https://mathematica.stackexchange.com/questions/13939/is-there-a-way-to-lock-some-cells-in-a-notebook\n",
    "\n",
    "# Jupyter notebook: protect cells #2641 \n",
    "# https://github.com/sagemathinc/cocalc/issues/2641\n",
    "    \n",
    "# Extracting extension from filename in Python\n",
    "# https://stackoverflow.com/questions/541390/extracting-extension-from-filename-in-python\n",
    "# filename, file_extension = os.path.splitext('/path/to/somefile.ext')\n",
    "    \n",
    "# Trim whitespace using PIL\n",
    "# https://stackoverflow.com/questions/10615901/trim-whitespace-using-pil\n",
    "  \n",
    "# Unnecessary Warning for trainable parameters #8585\n",
    "# https://github.com/keras-team/keras/issues/8585\n",
    "# A warning bug on model training\n",
    "    \n",
    "    "
   ]
  }
 ],
 "metadata": {
  "kernelspec": {
   "display_name": "Python 3",
   "language": "python",
   "name": "python3"
  },
  "language_info": {
   "codemirror_mode": {
    "name": "ipython",
    "version": 3
   },
   "file_extension": ".py",
   "mimetype": "text/x-python",
   "name": "python",
   "nbconvert_exporter": "python",
   "pygments_lexer": "ipython3",
   "version": "3.6.7"
  }
 },
 "nbformat": 4,
 "nbformat_minor": 2
}
